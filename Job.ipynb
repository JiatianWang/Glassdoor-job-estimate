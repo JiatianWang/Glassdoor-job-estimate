{
 "cells": [
  {
   "cell_type": "code",
   "execution_count": 1,
   "metadata": {},
   "outputs": [],
   "source": [
    "import pandas as pd \n",
    "import matplotlib.pyplot as plt\n",
    "import seaborn as sns"
   ]
  },
  {
   "cell_type": "code",
   "execution_count": 2,
   "metadata": {},
   "outputs": [],
   "source": [
    "df = pd.read_csv('salary_data_cleaned.csv')"
   ]
  },
  {
   "cell_type": "code",
   "execution_count": 3,
   "metadata": {},
   "outputs": [
    {
     "data": {
      "text/html": [
       "<div>\n",
       "<style scoped>\n",
       "    .dataframe tbody tr th:only-of-type {\n",
       "        vertical-align: middle;\n",
       "    }\n",
       "\n",
       "    .dataframe tbody tr th {\n",
       "        vertical-align: top;\n",
       "    }\n",
       "\n",
       "    .dataframe thead th {\n",
       "        text-align: right;\n",
       "    }\n",
       "</style>\n",
       "<table border=\"1\" class=\"dataframe\">\n",
       "  <thead>\n",
       "    <tr style=\"text-align: right;\">\n",
       "      <th></th>\n",
       "      <th>Job Title</th>\n",
       "      <th>Salary Estimate</th>\n",
       "      <th>Job Description</th>\n",
       "      <th>Rating</th>\n",
       "      <th>Company Name</th>\n",
       "      <th>Location</th>\n",
       "      <th>Headquarters</th>\n",
       "      <th>Size</th>\n",
       "      <th>Founded</th>\n",
       "      <th>Type of ownership</th>\n",
       "      <th>...</th>\n",
       "      <th>ave_salary</th>\n",
       "      <th>company name</th>\n",
       "      <th>same_state</th>\n",
       "      <th>headquater</th>\n",
       "      <th>age</th>\n",
       "      <th>python_yn</th>\n",
       "      <th>r studio</th>\n",
       "      <th>spark</th>\n",
       "      <th>aws</th>\n",
       "      <th>excel</th>\n",
       "    </tr>\n",
       "  </thead>\n",
       "  <tbody>\n",
       "    <tr>\n",
       "      <th>0</th>\n",
       "      <td>Data Scientist</td>\n",
       "      <td>CA$89K-CA$100K (Glassdoor Est.)</td>\n",
       "      <td>What We Are Building:\\n\\nAt Rubikloud, we are ...</td>\n",
       "      <td>3.7</td>\n",
       "      <td>Rubikloud Technologies\\n3.7</td>\n",
       "      <td>Toronto</td>\n",
       "      <td>Toronto, Canada</td>\n",
       "      <td>51 to 200 employees</td>\n",
       "      <td>2013</td>\n",
       "      <td>Company - Private</td>\n",
       "      <td>...</td>\n",
       "      <td>94.5</td>\n",
       "      <td>Rubikloud Technologies\\n</td>\n",
       "      <td>1</td>\n",
       "      <td>Toronto</td>\n",
       "      <td>7</td>\n",
       "      <td>1</td>\n",
       "      <td>1</td>\n",
       "      <td>1</td>\n",
       "      <td>0</td>\n",
       "      <td>0</td>\n",
       "    </tr>\n",
       "    <tr>\n",
       "      <th>1</th>\n",
       "      <td>Data Scientist</td>\n",
       "      <td>CA$89K-CA$100K (Glassdoor Est.)</td>\n",
       "      <td>Company Profile\\n\\nHome Capital Group Inc., to...</td>\n",
       "      <td>3.1</td>\n",
       "      <td>Home Trust\\n3.1</td>\n",
       "      <td>Toronto</td>\n",
       "      <td>Toronto, Canada</td>\n",
       "      <td>501 to 1000 employees</td>\n",
       "      <td>1977</td>\n",
       "      <td>Company - Public</td>\n",
       "      <td>...</td>\n",
       "      <td>94.5</td>\n",
       "      <td>Home Trust\\n</td>\n",
       "      <td>1</td>\n",
       "      <td>Toronto</td>\n",
       "      <td>43</td>\n",
       "      <td>1</td>\n",
       "      <td>1</td>\n",
       "      <td>1</td>\n",
       "      <td>0</td>\n",
       "      <td>1</td>\n",
       "    </tr>\n",
       "    <tr>\n",
       "      <th>2</th>\n",
       "      <td>Data Scientist</td>\n",
       "      <td>CA$89K-CA$100K (Glassdoor Est.)</td>\n",
       "      <td>The Analytic &amp; Insights Group at The AIR MILES...</td>\n",
       "      <td>-1.0</td>\n",
       "      <td>AIR MILES</td>\n",
       "      <td>Toronto</td>\n",
       "      <td>Toronto, Canada</td>\n",
       "      <td>501 to 1000 employees</td>\n",
       "      <td>1992</td>\n",
       "      <td>Company - Private</td>\n",
       "      <td>...</td>\n",
       "      <td>94.5</td>\n",
       "      <td>AIR MILES</td>\n",
       "      <td>1</td>\n",
       "      <td>Toronto</td>\n",
       "      <td>28</td>\n",
       "      <td>1</td>\n",
       "      <td>1</td>\n",
       "      <td>1</td>\n",
       "      <td>0</td>\n",
       "      <td>0</td>\n",
       "    </tr>\n",
       "    <tr>\n",
       "      <th>3</th>\n",
       "      <td>Data Scientist</td>\n",
       "      <td>CA$89K-CA$100K (Glassdoor Est.)</td>\n",
       "      <td>YOU’LL LEVERAGE DATA TO IMPACT GLOBAL BUSINESS...</td>\n",
       "      <td>3.6</td>\n",
       "      <td>Nielsen\\n3.6</td>\n",
       "      <td>Toronto</td>\n",
       "      <td>New York, NY</td>\n",
       "      <td>10000+ employees</td>\n",
       "      <td>1923</td>\n",
       "      <td>Company - Public</td>\n",
       "      <td>...</td>\n",
       "      <td>94.5</td>\n",
       "      <td>Nielsen\\n</td>\n",
       "      <td>0</td>\n",
       "      <td>New York</td>\n",
       "      <td>97</td>\n",
       "      <td>1</td>\n",
       "      <td>1</td>\n",
       "      <td>0</td>\n",
       "      <td>0</td>\n",
       "      <td>1</td>\n",
       "    </tr>\n",
       "    <tr>\n",
       "      <th>4</th>\n",
       "      <td>Data Scientist</td>\n",
       "      <td>CA$89K-CA$100K (Glassdoor Est.)</td>\n",
       "      <td>Wanted: An eagle-eyed Data Scientist who will ...</td>\n",
       "      <td>5.0</td>\n",
       "      <td>Precision Nutrition\\n5.0</td>\n",
       "      <td>Toronto</td>\n",
       "      <td>Toronto, Canada</td>\n",
       "      <td>51 to 200 employees</td>\n",
       "      <td>2001</td>\n",
       "      <td>Company - Private</td>\n",
       "      <td>...</td>\n",
       "      <td>94.5</td>\n",
       "      <td>Precision Nutrition\\n</td>\n",
       "      <td>1</td>\n",
       "      <td>Toronto</td>\n",
       "      <td>19</td>\n",
       "      <td>1</td>\n",
       "      <td>1</td>\n",
       "      <td>0</td>\n",
       "      <td>0</td>\n",
       "      <td>1</td>\n",
       "    </tr>\n",
       "  </tbody>\n",
       "</table>\n",
       "<p>5 rows × 26 columns</p>\n",
       "</div>"
      ],
      "text/plain": [
       "        Job Title                  Salary Estimate  \\\n",
       "0  Data Scientist  CA$89K-CA$100K (Glassdoor Est.)   \n",
       "1  Data Scientist  CA$89K-CA$100K (Glassdoor Est.)   \n",
       "2  Data Scientist  CA$89K-CA$100K (Glassdoor Est.)   \n",
       "3  Data Scientist  CA$89K-CA$100K (Glassdoor Est.)   \n",
       "4  Data Scientist  CA$89K-CA$100K (Glassdoor Est.)   \n",
       "\n",
       "                                     Job Description  Rating  \\\n",
       "0  What We Are Building:\\n\\nAt Rubikloud, we are ...     3.7   \n",
       "1  Company Profile\\n\\nHome Capital Group Inc., to...     3.1   \n",
       "2  The Analytic & Insights Group at The AIR MILES...    -1.0   \n",
       "3  YOU’LL LEVERAGE DATA TO IMPACT GLOBAL BUSINESS...     3.6   \n",
       "4  Wanted: An eagle-eyed Data Scientist who will ...     5.0   \n",
       "\n",
       "                  Company Name Location     Headquarters  \\\n",
       "0  Rubikloud Technologies\\n3.7  Toronto  Toronto, Canada   \n",
       "1              Home Trust\\n3.1  Toronto  Toronto, Canada   \n",
       "2                    AIR MILES  Toronto  Toronto, Canada   \n",
       "3                 Nielsen\\n3.6  Toronto     New York, NY   \n",
       "4     Precision Nutrition\\n5.0  Toronto  Toronto, Canada   \n",
       "\n",
       "                    Size  Founded  Type of ownership  ... ave_salary  \\\n",
       "0    51 to 200 employees     2013  Company - Private  ...       94.5   \n",
       "1  501 to 1000 employees     1977   Company - Public  ...       94.5   \n",
       "2  501 to 1000 employees     1992  Company - Private  ...       94.5   \n",
       "3       10000+ employees     1923   Company - Public  ...       94.5   \n",
       "4    51 to 200 employees     2001  Company - Private  ...       94.5   \n",
       "\n",
       "               company name same_state headquater  age  python_yn  r studio  \\\n",
       "0  Rubikloud Technologies\\n          1    Toronto    7          1         1   \n",
       "1              Home Trust\\n          1    Toronto   43          1         1   \n",
       "2                 AIR MILES          1    Toronto   28          1         1   \n",
       "3                 Nielsen\\n          0   New York   97          1         1   \n",
       "4     Precision Nutrition\\n          1    Toronto   19          1         1   \n",
       "\n",
       "  spark  aws excel  \n",
       "0     1    0     0  \n",
       "1     1    0     1  \n",
       "2     1    0     0  \n",
       "3     0    0     1  \n",
       "4     0    0     1  \n",
       "\n",
       "[5 rows x 26 columns]"
      ]
     },
     "execution_count": 3,
     "metadata": {},
     "output_type": "execute_result"
    }
   ],
   "source": [
    "df.head()"
   ]
  },
  {
   "cell_type": "code",
   "execution_count": 4,
   "metadata": {},
   "outputs": [
    {
     "data": {
      "text/plain": [
       "Index(['Job Title', 'Salary Estimate', 'Job Description', 'Rating',\n",
       "       'Company Name', 'Location', 'Headquarters', 'Size', 'Founded',\n",
       "       'Type of ownership', 'Industry', 'Sector', 'Revenue', 'Competitors',\n",
       "       'min_salary', 'max_salary', 'ave_salary', 'company name', 'same_state',\n",
       "       'headquater', 'age', 'python_yn', 'r studio', 'spark', 'aws', 'excel'],\n",
       "      dtype='object')"
      ]
     },
     "execution_count": 4,
     "metadata": {},
     "output_type": "execute_result"
    }
   ],
   "source": [
    "df.columns"
   ]
  },
  {
   "cell_type": "code",
   "execution_count": 5,
   "metadata": {},
   "outputs": [],
   "source": [
    "def title_simplifier(title):\n",
    "    if 'data scientist' in title.lower():\n",
    "        return 'data scientist'\n",
    "    elif 'data engineer' in title.lower():\n",
    "        return 'data engineer'\n",
    "    elif 'analyst' in title.lower():\n",
    "        return 'analyst'\n",
    "    elif 'machnie learning' in title.lower():\n",
    "        return 'mle'\n",
    "    elif 'manager' in title.lower():\n",
    "        return 'manager'\n",
    "    elif 'director' in title.lower():\n",
    "        return 'director'\n",
    "    else:\n",
    "        return 'na'\n",
    "    \n",
    "def seniority(title):\n",
    "    if 'sr' in title.lower() or 'senior' in title.lower() or'sr' in title.lower() or 'lead' in title.lower() or 'principal' in title.lower():\n",
    "        return 'senior'\n",
    "    elif 'jr' in title.lower() or 'jr.' in title.lower():\n",
    "        return 'jr'\n",
    "    else:\n",
    "        return 'na'\n",
    "    \n",
    "    \n",
    "# job title and seniority\n",
    "# fix state los \n",
    "# job description length \n",
    "# competior count\n",
    "# hourly wage to annual\n",
    "# remove new line from job title\n",
    "\n",
    "     "
   ]
  },
  {
   "cell_type": "code",
   "execution_count": 6,
   "metadata": {},
   "outputs": [],
   "source": [
    "df['job_simp'] = df['Job Title'].apply(title_simplifier)"
   ]
  },
  {
   "cell_type": "code",
   "execution_count": 7,
   "metadata": {},
   "outputs": [
    {
     "data": {
      "text/plain": [
       "data scientist    150\n",
       "Name: job_simp, dtype: int64"
      ]
     },
     "execution_count": 7,
     "metadata": {},
     "output_type": "execute_result"
    }
   ],
   "source": [
    "df['job_simp'].value_counts()"
   ]
  },
  {
   "cell_type": "code",
   "execution_count": 11,
   "metadata": {},
   "outputs": [],
   "source": [
    "df['seniority'] = df['Job Title'].apply(seniority)"
   ]
  },
  {
   "cell_type": "code",
   "execution_count": 12,
   "metadata": {},
   "outputs": [
    {
     "data": {
      "text/plain": [
       "na        122\n",
       "senior     28\n",
       "Name: seniority, dtype: int64"
      ]
     },
     "execution_count": 12,
     "metadata": {},
     "output_type": "execute_result"
    }
   ],
   "source": [
    "df['seniority'].value_counts()"
   ]
  },
  {
   "cell_type": "code",
   "execution_count": 13,
   "metadata": {},
   "outputs": [
    {
     "data": {
      "text/plain": [
       "Toronto          76\n",
       "Brampton         56\n",
       "Woodbridge        9\n",
       "Mississauga       4\n",
       "Oakville          1\n",
       "Stouffville       1\n",
       "Markham           1\n",
       "Newmarket         1\n",
       "Richmond Hill     1\n",
       "Name: Location, dtype: int64"
      ]
     },
     "execution_count": 13,
     "metadata": {},
     "output_type": "execute_result"
    }
   ],
   "source": [
    "df['Location'].value_counts()"
   ]
  },
  {
   "cell_type": "code",
   "execution_count": null,
   "metadata": {},
   "outputs": [],
   "source": []
  }
 ],
 "metadata": {
  "kernelspec": {
   "display_name": "Python 3",
   "language": "python",
   "name": "python3"
  },
  "language_info": {
   "codemirror_mode": {
    "name": "ipython",
    "version": 3
   },
   "file_extension": ".py",
   "mimetype": "text/x-python",
   "name": "python",
   "nbconvert_exporter": "python",
   "pygments_lexer": "ipython3",
   "version": "3.7.6"
  }
 },
 "nbformat": 4,
 "nbformat_minor": 4
}
