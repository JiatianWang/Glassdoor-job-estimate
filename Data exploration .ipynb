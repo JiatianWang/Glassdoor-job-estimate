{
 "cells": [
  {
   "cell_type": "code",
   "execution_count": 1,
   "metadata": {},
   "outputs": [],
   "source": [
    "import pandas as pd \n",
    "import matplotlib.pyplot as plt\n",
    "import seaborn as sns"
   ]
  },
  {
   "cell_type": "code",
   "execution_count": 2,
   "metadata": {},
   "outputs": [],
   "source": [
    "df = pd.read_csv('salary_data_cleaned.csv')"
   ]
  },
  {
   "cell_type": "code",
   "execution_count": 3,
   "metadata": {},
   "outputs": [
    {
     "data": {
      "text/html": [
       "<div>\n",
       "<style scoped>\n",
       "    .dataframe tbody tr th:only-of-type {\n",
       "        vertical-align: middle;\n",
       "    }\n",
       "\n",
       "    .dataframe tbody tr th {\n",
       "        vertical-align: top;\n",
       "    }\n",
       "\n",
       "    .dataframe thead th {\n",
       "        text-align: right;\n",
       "    }\n",
       "</style>\n",
       "<table border=\"1\" class=\"dataframe\">\n",
       "  <thead>\n",
       "    <tr style=\"text-align: right;\">\n",
       "      <th></th>\n",
       "      <th>Job Title</th>\n",
       "      <th>Salary Estimate</th>\n",
       "      <th>Job Description</th>\n",
       "      <th>Rating</th>\n",
       "      <th>Company Name</th>\n",
       "      <th>Location</th>\n",
       "      <th>Headquarters</th>\n",
       "      <th>Size</th>\n",
       "      <th>Founded</th>\n",
       "      <th>Type of ownership</th>\n",
       "      <th>...</th>\n",
       "      <th>ave_salary</th>\n",
       "      <th>company name</th>\n",
       "      <th>same_state</th>\n",
       "      <th>headquater</th>\n",
       "      <th>age</th>\n",
       "      <th>python_yn</th>\n",
       "      <th>r studio</th>\n",
       "      <th>spark</th>\n",
       "      <th>aws</th>\n",
       "      <th>excel</th>\n",
       "    </tr>\n",
       "  </thead>\n",
       "  <tbody>\n",
       "    <tr>\n",
       "      <th>0</th>\n",
       "      <td>Data Scientist</td>\n",
       "      <td>CA$89K-CA$100K (Glassdoor Est.)</td>\n",
       "      <td>What We Are Building:\\n\\nAt Rubikloud, we are ...</td>\n",
       "      <td>3.7</td>\n",
       "      <td>Rubikloud Technologies\\n3.7</td>\n",
       "      <td>Toronto</td>\n",
       "      <td>Toronto, Canada</td>\n",
       "      <td>51 to 200 employees</td>\n",
       "      <td>2013</td>\n",
       "      <td>Company - Private</td>\n",
       "      <td>...</td>\n",
       "      <td>94.5</td>\n",
       "      <td>Rubikloud Technologies\\n</td>\n",
       "      <td>1</td>\n",
       "      <td>Toronto</td>\n",
       "      <td>7</td>\n",
       "      <td>1</td>\n",
       "      <td>1</td>\n",
       "      <td>1</td>\n",
       "      <td>0</td>\n",
       "      <td>0</td>\n",
       "    </tr>\n",
       "    <tr>\n",
       "      <th>1</th>\n",
       "      <td>Data Scientist</td>\n",
       "      <td>CA$89K-CA$100K (Glassdoor Est.)</td>\n",
       "      <td>Company Profile\\n\\nHome Capital Group Inc., to...</td>\n",
       "      <td>3.1</td>\n",
       "      <td>Home Trust\\n3.1</td>\n",
       "      <td>Toronto</td>\n",
       "      <td>Toronto, Canada</td>\n",
       "      <td>501 to 1000 employees</td>\n",
       "      <td>1977</td>\n",
       "      <td>Company - Public</td>\n",
       "      <td>...</td>\n",
       "      <td>94.5</td>\n",
       "      <td>Home Trust\\n</td>\n",
       "      <td>1</td>\n",
       "      <td>Toronto</td>\n",
       "      <td>43</td>\n",
       "      <td>1</td>\n",
       "      <td>1</td>\n",
       "      <td>1</td>\n",
       "      <td>0</td>\n",
       "      <td>1</td>\n",
       "    </tr>\n",
       "    <tr>\n",
       "      <th>2</th>\n",
       "      <td>Data Scientist</td>\n",
       "      <td>CA$89K-CA$100K (Glassdoor Est.)</td>\n",
       "      <td>The Analytic &amp; Insights Group at The AIR MILES...</td>\n",
       "      <td>-1.0</td>\n",
       "      <td>AIR MILES</td>\n",
       "      <td>Toronto</td>\n",
       "      <td>Toronto, Canada</td>\n",
       "      <td>501 to 1000 employees</td>\n",
       "      <td>1992</td>\n",
       "      <td>Company - Private</td>\n",
       "      <td>...</td>\n",
       "      <td>94.5</td>\n",
       "      <td>AIR MILES</td>\n",
       "      <td>1</td>\n",
       "      <td>Toronto</td>\n",
       "      <td>28</td>\n",
       "      <td>1</td>\n",
       "      <td>1</td>\n",
       "      <td>1</td>\n",
       "      <td>0</td>\n",
       "      <td>0</td>\n",
       "    </tr>\n",
       "    <tr>\n",
       "      <th>3</th>\n",
       "      <td>Data Scientist</td>\n",
       "      <td>CA$89K-CA$100K (Glassdoor Est.)</td>\n",
       "      <td>YOU’LL LEVERAGE DATA TO IMPACT GLOBAL BUSINESS...</td>\n",
       "      <td>3.6</td>\n",
       "      <td>Nielsen\\n3.6</td>\n",
       "      <td>Toronto</td>\n",
       "      <td>New York, NY</td>\n",
       "      <td>10000+ employees</td>\n",
       "      <td>1923</td>\n",
       "      <td>Company - Public</td>\n",
       "      <td>...</td>\n",
       "      <td>94.5</td>\n",
       "      <td>Nielsen\\n</td>\n",
       "      <td>0</td>\n",
       "      <td>New York</td>\n",
       "      <td>97</td>\n",
       "      <td>1</td>\n",
       "      <td>1</td>\n",
       "      <td>0</td>\n",
       "      <td>0</td>\n",
       "      <td>1</td>\n",
       "    </tr>\n",
       "    <tr>\n",
       "      <th>4</th>\n",
       "      <td>Data Scientist</td>\n",
       "      <td>CA$89K-CA$100K (Glassdoor Est.)</td>\n",
       "      <td>Wanted: An eagle-eyed Data Scientist who will ...</td>\n",
       "      <td>5.0</td>\n",
       "      <td>Precision Nutrition\\n5.0</td>\n",
       "      <td>Toronto</td>\n",
       "      <td>Toronto, Canada</td>\n",
       "      <td>51 to 200 employees</td>\n",
       "      <td>2001</td>\n",
       "      <td>Company - Private</td>\n",
       "      <td>...</td>\n",
       "      <td>94.5</td>\n",
       "      <td>Precision Nutrition\\n</td>\n",
       "      <td>1</td>\n",
       "      <td>Toronto</td>\n",
       "      <td>19</td>\n",
       "      <td>1</td>\n",
       "      <td>1</td>\n",
       "      <td>0</td>\n",
       "      <td>0</td>\n",
       "      <td>1</td>\n",
       "    </tr>\n",
       "  </tbody>\n",
       "</table>\n",
       "<p>5 rows × 26 columns</p>\n",
       "</div>"
      ],
      "text/plain": [
       "        Job Title                  Salary Estimate  \\\n",
       "0  Data Scientist  CA$89K-CA$100K (Glassdoor Est.)   \n",
       "1  Data Scientist  CA$89K-CA$100K (Glassdoor Est.)   \n",
       "2  Data Scientist  CA$89K-CA$100K (Glassdoor Est.)   \n",
       "3  Data Scientist  CA$89K-CA$100K (Glassdoor Est.)   \n",
       "4  Data Scientist  CA$89K-CA$100K (Glassdoor Est.)   \n",
       "\n",
       "                                     Job Description  Rating  \\\n",
       "0  What We Are Building:\\n\\nAt Rubikloud, we are ...     3.7   \n",
       "1  Company Profile\\n\\nHome Capital Group Inc., to...     3.1   \n",
       "2  The Analytic & Insights Group at The AIR MILES...    -1.0   \n",
       "3  YOU’LL LEVERAGE DATA TO IMPACT GLOBAL BUSINESS...     3.6   \n",
       "4  Wanted: An eagle-eyed Data Scientist who will ...     5.0   \n",
       "\n",
       "                  Company Name Location     Headquarters  \\\n",
       "0  Rubikloud Technologies\\n3.7  Toronto  Toronto, Canada   \n",
       "1              Home Trust\\n3.1  Toronto  Toronto, Canada   \n",
       "2                    AIR MILES  Toronto  Toronto, Canada   \n",
       "3                 Nielsen\\n3.6  Toronto     New York, NY   \n",
       "4     Precision Nutrition\\n5.0  Toronto  Toronto, Canada   \n",
       "\n",
       "                    Size  Founded  Type of ownership  ... ave_salary  \\\n",
       "0    51 to 200 employees     2013  Company - Private  ...       94.5   \n",
       "1  501 to 1000 employees     1977   Company - Public  ...       94.5   \n",
       "2  501 to 1000 employees     1992  Company - Private  ...       94.5   \n",
       "3       10000+ employees     1923   Company - Public  ...       94.5   \n",
       "4    51 to 200 employees     2001  Company - Private  ...       94.5   \n",
       "\n",
       "               company name same_state headquater  age  python_yn  r studio  \\\n",
       "0  Rubikloud Technologies\\n          1    Toronto    7          1         1   \n",
       "1              Home Trust\\n          1    Toronto   43          1         1   \n",
       "2                 AIR MILES          1    Toronto   28          1         1   \n",
       "3                 Nielsen\\n          0   New York   97          1         1   \n",
       "4     Precision Nutrition\\n          1    Toronto   19          1         1   \n",
       "\n",
       "  spark  aws excel  \n",
       "0     1    0     0  \n",
       "1     1    0     1  \n",
       "2     1    0     0  \n",
       "3     0    0     1  \n",
       "4     0    0     1  \n",
       "\n",
       "[5 rows x 26 columns]"
      ]
     },
     "execution_count": 3,
     "metadata": {},
     "output_type": "execute_result"
    }
   ],
   "source": [
    "df.head()"
   ]
  },
  {
   "cell_type": "code",
   "execution_count": 4,
   "metadata": {},
   "outputs": [
    {
     "data": {
      "text/plain": [
       "Index(['Job Title', 'Salary Estimate', 'Job Description', 'Rating',\n",
       "       'Company Name', 'Location', 'Headquarters', 'Size', 'Founded',\n",
       "       'Type of ownership', 'Industry', 'Sector', 'Revenue', 'Competitors',\n",
       "       'min_salary', 'max_salary', 'ave_salary', 'company name', 'same_state',\n",
       "       'headquater', 'age', 'python_yn', 'r studio', 'spark', 'aws', 'excel'],\n",
       "      dtype='object')"
      ]
     },
     "execution_count": 4,
     "metadata": {},
     "output_type": "execute_result"
    }
   ],
   "source": [
    "df.columns"
   ]
  },
  {
   "cell_type": "code",
   "execution_count": 5,
   "metadata": {},
   "outputs": [],
   "source": [
    "def title_simplifier(title):\n",
    "    if 'data scientist' in title.lower():\n",
    "        return 'data scientist'\n",
    "    elif 'data engineer' in title.lower():\n",
    "        return 'data engineer'\n",
    "    elif 'analyst' in title.lower():\n",
    "        return 'analyst'\n",
    "    elif 'machnie learning' in title.lower():\n",
    "        return 'mle'\n",
    "    elif 'manager' in title.lower():\n",
    "        return 'manager'\n",
    "    elif 'director' in title.lower():\n",
    "        return 'director'\n",
    "    else:\n",
    "        return 'na'\n",
    "    \n",
    "def seniority(title):\n",
    "    if 'sr' in title.lower() or 'senior' in title.lower() or'sr' in title.lower() or 'lead' in title.lower() or 'principal' in title.lower():\n",
    "        return 'senior'\n",
    "    elif 'jr' in title.lower() or 'jr.' in title.lower():\n",
    "        return 'jr'\n",
    "    else:\n",
    "        return 'na'\n",
    "    \n",
    "    \n",
    "# job title and seniority\n",
    "\n",
    "# hourly wage to annual\n",
    "# remove new line from job title\n",
    "\n",
    "     "
   ]
  },
  {
   "cell_type": "code",
   "execution_count": 6,
   "metadata": {},
   "outputs": [],
   "source": [
    "df['job_simp'] = df['Job Title'].apply(title_simplifier)"
   ]
  },
  {
   "cell_type": "code",
   "execution_count": 7,
   "metadata": {},
   "outputs": [
    {
     "data": {
      "text/plain": [
       "data scientist    150\n",
       "Name: job_simp, dtype: int64"
      ]
     },
     "execution_count": 7,
     "metadata": {},
     "output_type": "execute_result"
    }
   ],
   "source": [
    "df['job_simp'].value_counts()"
   ]
  },
  {
   "cell_type": "code",
   "execution_count": 8,
   "metadata": {},
   "outputs": [],
   "source": [
    "df['seniority'] = df['Job Title'].apply(seniority)"
   ]
  },
  {
   "cell_type": "code",
   "execution_count": 9,
   "metadata": {},
   "outputs": [
    {
     "data": {
      "text/plain": [
       "senior    110\n",
       "na         40\n",
       "Name: seniority, dtype: int64"
      ]
     },
     "execution_count": 9,
     "metadata": {},
     "output_type": "execute_result"
    }
   ],
   "source": [
    "df['seniority'].value_counts()"
   ]
  },
  {
   "cell_type": "code",
   "execution_count": 10,
   "metadata": {},
   "outputs": [
    {
     "data": {
      "text/plain": [
       "Toronto          76\n",
       "Brampton         56\n",
       "Woodbridge        9\n",
       "Mississauga       4\n",
       "Newmarket         1\n",
       "Oakville          1\n",
       "Stouffville       1\n",
       "Richmond Hill     1\n",
       "Markham           1\n",
       "Name: Location, dtype: int64"
      ]
     },
     "execution_count": 10,
     "metadata": {},
     "output_type": "execute_result"
    }
   ],
   "source": [
    "df['Location'].value_counts()"
   ]
  },
  {
   "cell_type": "code",
   "execution_count": 11,
   "metadata": {},
   "outputs": [
    {
     "data": {
      "text/plain": [
       "0      3707\n",
       "1      3274\n",
       "2      4443\n",
       "3      4466\n",
       "4      8398\n",
       "       ... \n",
       "145    5527\n",
       "146    2801\n",
       "147    6346\n",
       "148    2813\n",
       "149    6344\n",
       "Name: desc_len, Length: 150, dtype: int64"
      ]
     },
     "execution_count": 11,
     "metadata": {},
     "output_type": "execute_result"
    }
   ],
   "source": [
    "# job description length\n",
    "df['desc_len'] = df['Job Description'].apply(lambda x: len(x))\n",
    "df['desc_len']"
   ]
  },
  {
   "cell_type": "code",
   "execution_count": 28,
   "metadata": {},
   "outputs": [
    {
     "data": {
      "text/plain": [
       "0         Rubikloud Technologies\n",
       "1                     Home Trust\n",
       "2                      AIR MILES\n",
       "3                        Nielsen\n",
       "4            Precision Nutrition\n",
       "                 ...            \n",
       "145    Canadian Tire Corporation\n",
       "146                GALE Partners\n",
       "147                    Joe Fresh\n",
       "148                      407 ETR\n",
       "149     Loblaw Companies Limited\n",
       "Name: Company Name, Length: 150, dtype: object"
      ]
     },
     "execution_count": 28,
     "metadata": {},
     "output_type": "execute_result"
    }
   ],
   "source": [
    "# company format fix\n",
    "df['Company Name'] = df['Company Name'].apply(lambda x: x.split('\\n')[0])\n",
    "df['Company Name']"
   ]
  },
  {
   "cell_type": "code",
   "execution_count": 13,
   "metadata": {},
   "outputs": [
    {
     "data": {
      "text/plain": [
       "0                              0\n",
       "1                              0\n",
       "2                              0\n",
       "3                              0\n",
       "4                              0\n",
       "                 ...            \n",
       "145    Home Depot Canada, Lowe's\n",
       "146                            0\n",
       "147                            0\n",
       "148                            0\n",
       "149                            0\n",
       "Name: num_comp, Length: 150, dtype: object"
      ]
     },
     "execution_count": 13,
     "metadata": {},
     "output_type": "execute_result"
    }
   ],
   "source": [
    "# competior count\n",
    "df['num_comp'] = df['Competitors'].apply(lambda x: 0 if x == '-1' else x)\n",
    "df['num_comp']"
   ]
  },
  {
   "cell_type": "code",
   "execution_count": 14,
   "metadata": {},
   "outputs": [
    {
     "data": {
      "text/plain": [
       "Index(['Job Title', 'Salary Estimate', 'Job Description', 'Rating',\n",
       "       'Company Name', 'Location', 'Headquarters', 'Size', 'Founded',\n",
       "       'Type of ownership', 'Industry', 'Sector', 'Revenue', 'Competitors',\n",
       "       'min_salary', 'max_salary', 'ave_salary', 'company name', 'same_state',\n",
       "       'headquater', 'age', 'python_yn', 'r studio', 'spark', 'aws', 'excel',\n",
       "       'job_simp', 'seniority', 'desc_len', 'num_comp'],\n",
       "      dtype='object')"
      ]
     },
     "execution_count": 14,
     "metadata": {},
     "output_type": "execute_result"
    }
   ],
   "source": [
    "df.columns"
   ]
  },
  {
   "cell_type": "code",
   "execution_count": 15,
   "metadata": {},
   "outputs": [
    {
     "data": {
      "text/html": [
       "<div>\n",
       "<style scoped>\n",
       "    .dataframe tbody tr th:only-of-type {\n",
       "        vertical-align: middle;\n",
       "    }\n",
       "\n",
       "    .dataframe tbody tr th {\n",
       "        vertical-align: top;\n",
       "    }\n",
       "\n",
       "    .dataframe thead th {\n",
       "        text-align: right;\n",
       "    }\n",
       "</style>\n",
       "<table border=\"1\" class=\"dataframe\">\n",
       "  <thead>\n",
       "    <tr style=\"text-align: right;\">\n",
       "      <th></th>\n",
       "      <th>Rating</th>\n",
       "      <th>Founded</th>\n",
       "      <th>min_salary</th>\n",
       "      <th>max_salary</th>\n",
       "      <th>ave_salary</th>\n",
       "      <th>same_state</th>\n",
       "      <th>age</th>\n",
       "      <th>python_yn</th>\n",
       "      <th>r studio</th>\n",
       "      <th>spark</th>\n",
       "      <th>aws</th>\n",
       "      <th>excel</th>\n",
       "      <th>desc_len</th>\n",
       "    </tr>\n",
       "  </thead>\n",
       "  <tbody>\n",
       "    <tr>\n",
       "      <th>count</th>\n",
       "      <td>150.00000</td>\n",
       "      <td>150.000000</td>\n",
       "      <td>150.000000</td>\n",
       "      <td>150.000000</td>\n",
       "      <td>150.000000</td>\n",
       "      <td>150.000000</td>\n",
       "      <td>150.000000</td>\n",
       "      <td>150.000000</td>\n",
       "      <td>150.0</td>\n",
       "      <td>150.000000</td>\n",
       "      <td>150.000000</td>\n",
       "      <td>150.000000</td>\n",
       "      <td>150.000000</td>\n",
       "    </tr>\n",
       "    <tr>\n",
       "      <th>mean</th>\n",
       "      <td>3.45400</td>\n",
       "      <td>1331.066667</td>\n",
       "      <td>77.200000</td>\n",
       "      <td>104.200000</td>\n",
       "      <td>90.700000</td>\n",
       "      <td>0.553333</td>\n",
       "      <td>41.893333</td>\n",
       "      <td>0.960000</td>\n",
       "      <td>1.0</td>\n",
       "      <td>0.600000</td>\n",
       "      <td>0.453333</td>\n",
       "      <td>0.426667</td>\n",
       "      <td>4727.573333</td>\n",
       "    </tr>\n",
       "    <tr>\n",
       "      <th>std</th>\n",
       "      <td>0.85598</td>\n",
       "      <td>918.443801</td>\n",
       "      <td>6.230473</td>\n",
       "      <td>3.440774</td>\n",
       "      <td>1.945568</td>\n",
       "      <td>0.498813</td>\n",
       "      <td>61.595470</td>\n",
       "      <td>0.196616</td>\n",
       "      <td>0.0</td>\n",
       "      <td>0.491539</td>\n",
       "      <td>0.499485</td>\n",
       "      <td>0.496250</td>\n",
       "      <td>1807.135834</td>\n",
       "    </tr>\n",
       "    <tr>\n",
       "      <th>min</th>\n",
       "      <td>-1.00000</td>\n",
       "      <td>-1.000000</td>\n",
       "      <td>73.000000</td>\n",
       "      <td>100.000000</td>\n",
       "      <td>89.000000</td>\n",
       "      <td>0.000000</td>\n",
       "      <td>-1.000000</td>\n",
       "      <td>0.000000</td>\n",
       "      <td>1.0</td>\n",
       "      <td>0.000000</td>\n",
       "      <td>0.000000</td>\n",
       "      <td>0.000000</td>\n",
       "      <td>488.000000</td>\n",
       "    </tr>\n",
       "    <tr>\n",
       "      <th>25%</th>\n",
       "      <td>3.30000</td>\n",
       "      <td>-1.000000</td>\n",
       "      <td>73.000000</td>\n",
       "      <td>100.000000</td>\n",
       "      <td>90.000000</td>\n",
       "      <td>0.000000</td>\n",
       "      <td>-1.000000</td>\n",
       "      <td>1.000000</td>\n",
       "      <td>1.0</td>\n",
       "      <td>0.000000</td>\n",
       "      <td>0.000000</td>\n",
       "      <td>0.000000</td>\n",
       "      <td>3455.750000</td>\n",
       "    </tr>\n",
       "    <tr>\n",
       "      <th>50%</th>\n",
       "      <td>3.50000</td>\n",
       "      <td>1887.000000</td>\n",
       "      <td>73.000000</td>\n",
       "      <td>107.000000</td>\n",
       "      <td>90.000000</td>\n",
       "      <td>1.000000</td>\n",
       "      <td>14.000000</td>\n",
       "      <td>1.000000</td>\n",
       "      <td>1.0</td>\n",
       "      <td>1.000000</td>\n",
       "      <td>0.000000</td>\n",
       "      <td>0.000000</td>\n",
       "      <td>4096.000000</td>\n",
       "    </tr>\n",
       "    <tr>\n",
       "      <th>75%</th>\n",
       "      <td>3.70000</td>\n",
       "      <td>2006.000000</td>\n",
       "      <td>78.000000</td>\n",
       "      <td>107.000000</td>\n",
       "      <td>90.000000</td>\n",
       "      <td>1.000000</td>\n",
       "      <td>85.000000</td>\n",
       "      <td>1.000000</td>\n",
       "      <td>1.0</td>\n",
       "      <td>1.000000</td>\n",
       "      <td>1.000000</td>\n",
       "      <td>1.000000</td>\n",
       "      <td>6344.000000</td>\n",
       "    </tr>\n",
       "    <tr>\n",
       "      <th>max</th>\n",
       "      <td>5.00000</td>\n",
       "      <td>2016.000000</td>\n",
       "      <td>89.000000</td>\n",
       "      <td>107.000000</td>\n",
       "      <td>94.500000</td>\n",
       "      <td>1.000000</td>\n",
       "      <td>208.000000</td>\n",
       "      <td>1.000000</td>\n",
       "      <td>1.0</td>\n",
       "      <td>1.000000</td>\n",
       "      <td>1.000000</td>\n",
       "      <td>1.000000</td>\n",
       "      <td>8517.000000</td>\n",
       "    </tr>\n",
       "  </tbody>\n",
       "</table>\n",
       "</div>"
      ],
      "text/plain": [
       "          Rating      Founded  min_salary  max_salary  ave_salary  same_state  \\\n",
       "count  150.00000   150.000000  150.000000  150.000000  150.000000  150.000000   \n",
       "mean     3.45400  1331.066667   77.200000  104.200000   90.700000    0.553333   \n",
       "std      0.85598   918.443801    6.230473    3.440774    1.945568    0.498813   \n",
       "min     -1.00000    -1.000000   73.000000  100.000000   89.000000    0.000000   \n",
       "25%      3.30000    -1.000000   73.000000  100.000000   90.000000    0.000000   \n",
       "50%      3.50000  1887.000000   73.000000  107.000000   90.000000    1.000000   \n",
       "75%      3.70000  2006.000000   78.000000  107.000000   90.000000    1.000000   \n",
       "max      5.00000  2016.000000   89.000000  107.000000   94.500000    1.000000   \n",
       "\n",
       "              age   python_yn  r studio       spark         aws       excel  \\\n",
       "count  150.000000  150.000000     150.0  150.000000  150.000000  150.000000   \n",
       "mean    41.893333    0.960000       1.0    0.600000    0.453333    0.426667   \n",
       "std     61.595470    0.196616       0.0    0.491539    0.499485    0.496250   \n",
       "min     -1.000000    0.000000       1.0    0.000000    0.000000    0.000000   \n",
       "25%     -1.000000    1.000000       1.0    0.000000    0.000000    0.000000   \n",
       "50%     14.000000    1.000000       1.0    1.000000    0.000000    0.000000   \n",
       "75%     85.000000    1.000000       1.0    1.000000    1.000000    1.000000   \n",
       "max    208.000000    1.000000       1.0    1.000000    1.000000    1.000000   \n",
       "\n",
       "          desc_len  \n",
       "count   150.000000  \n",
       "mean   4727.573333  \n",
       "std    1807.135834  \n",
       "min     488.000000  \n",
       "25%    3455.750000  \n",
       "50%    4096.000000  \n",
       "75%    6344.000000  \n",
       "max    8517.000000  "
      ]
     },
     "execution_count": 15,
     "metadata": {},
     "output_type": "execute_result"
    }
   ],
   "source": [
    "df.describe()"
   ]
  },
  {
   "cell_type": "code",
   "execution_count": 16,
   "metadata": {},
   "outputs": [
    {
     "data": {
      "text/plain": [
       "Index(['Job Title', 'Salary Estimate', 'Job Description', 'Rating',\n",
       "       'Company Name', 'Location', 'Headquarters', 'Size', 'Founded',\n",
       "       'Type of ownership', 'Industry', 'Sector', 'Revenue', 'Competitors',\n",
       "       'min_salary', 'max_salary', 'ave_salary', 'company name', 'same_state',\n",
       "       'headquater', 'age', 'python_yn', 'r studio', 'spark', 'aws', 'excel',\n",
       "       'job_simp', 'seniority', 'desc_len', 'num_comp'],\n",
       "      dtype='object')"
      ]
     },
     "execution_count": 16,
     "metadata": {},
     "output_type": "execute_result"
    }
   ],
   "source": [
    "df.columns"
   ]
  },
  {
   "cell_type": "code",
   "execution_count": 17,
   "metadata": {},
   "outputs": [
    {
     "data": {
      "text/plain": [
       "<matplotlib.axes._subplots.AxesSubplot at 0x1def9d8a2c8>"
      ]
     },
     "execution_count": 17,
     "metadata": {},
     "output_type": "execute_result"
    },
    {
     "data": {
      "image/png": "[encoded data removed]",
      "text/plain": [
       "<Figure size 432x288 with 1 Axes>"
      ]
     },
     "metadata": {
      "needs_background": "light"
     },
     "output_type": "display_data"
    }
   ],
   "source": [
    "df['Rating'].hist()"
   ]
  },
  {
   "cell_type": "code",
   "execution_count": 18,
   "metadata": {},
   "outputs": [
    {
     "data": {
      "text/plain": [
       "<matplotlib.axes._subplots.AxesSubplot at 0x1def735e5c8>"
      ]
     },
     "execution_count": 18,
     "metadata": {},
     "output_type": "execute_result"
    },
    {
     "data": {
      "image/png": "[encoded data removed]",
      "text/plain": [
       "<Figure size 432x288 with 1 Axes>"
      ]
     },
     "metadata": {
      "needs_background": "light"
     },
     "output_type": "display_data"
    }
   ],
   "source": [
    "df['ave_salary'].hist()"
   ]
  },
  {
   "cell_type": "code",
   "execution_count": 19,
   "metadata": {},
   "outputs": [
    {
     "data": {
      "text/plain": [
       "<matplotlib.axes._subplots.AxesSubplot at 0x1defa5b1888>"
      ]
     },
     "execution_count": 19,
     "metadata": {},
     "output_type": "execute_result"
    },
    {
     "data": {
      "image/png": "[encoded data removed]",
      "text/plain": [
       "<Figure size 432x288 with 1 Axes>"
      ]
     },
     "metadata": {
      "needs_background": "light"
     },
     "output_type": "display_data"
    }
   ],
   "source": [
    "df['age'].hist()"
   ]
  },
  {
   "cell_type": "code",
   "execution_count": 20,
   "metadata": {},
   "outputs": [
    {
     "data": {
      "text/plain": [
       "[23]"
      ]
     },
     "execution_count": 20,
     "metadata": {},
     "output_type": "execute_result"
    }
   ],
   "source": [
    "idx = df.index[df['age'] == df['age'].max()].tolist()\n",
    "idx"
   ]
  },
  {
   "cell_type": "code",
   "execution_count": 29,
   "metadata": {},
   "outputs": [
    {
     "data": {
      "text/plain": [
       "Job Title                                               Data Scientist\n",
       "Salary Estimate                        CA$89K-CA$100K (Glassdoor Est.)\n",
       "Job Description      This is a Data Scientist role within the Big D...\n",
       "Rating                                                             3.7\n",
       "Company Name                                                      Citi\n",
       "Location                                                   Mississauga\n",
       "Headquarters                                              New York, NY\n",
       "Size                                                  10000+ employees\n",
       "Founded                                                           1812\n",
       "Type of ownership                                     Company - Public\n",
       "Industry                         Investment Banking & Asset Management\n",
       "Sector                                                         Finance\n",
       "Revenue                                             $10+ billion (CAD)\n",
       "Competitors                                                         -1\n",
       "min_salary                                                          89\n",
       "max_salary                                                         100\n",
       "ave_salary                                                        94.5\n",
       "company name                                                    Citi\\n\n",
       "same_state                                                           0\n",
       "headquater                                                    New York\n",
       "age                                                                208\n",
       "python_yn                                                            1\n",
       "r studio                                                             1\n",
       "spark                                                                1\n",
       "aws                                                                  0\n",
       "excel                                                                0\n",
       "job_simp                                                data scientist\n",
       "seniority                                                           na\n",
       "desc_len                                                          3586\n",
       "num_comp                                                             0\n",
       "Name: 23, dtype: object"
      ]
     },
     "execution_count": 29,
     "metadata": {},
     "output_type": "execute_result"
    }
   ],
   "source": [
    "df.loc[23]"
   ]
  },
  {
   "cell_type": "code",
   "execution_count": null,
   "metadata": {},
   "outputs": [],
   "source": []
  },
  {
   "cell_type": "code",
   "execution_count": null,
   "metadata": {},
   "outputs": [],
   "source": []
  }
 ],
 "metadata": {
  "kernelspec": {
   "display_name": "Python 3",
   "language": "python",
   "name": "python3"
  },
  "language_info": {
   "codemirror_mode": {
    "name": "ipython",
    "version": 3
   },
   "file_extension": ".py",
   "mimetype": "text/x-python",
   "name": "python",
   "nbconvert_exporter": "python",
   "pygments_lexer": "ipython3",
   "version": "3.7.6"
  }
 },
 "nbformat": 4,
 "nbformat_minor": 4
}
